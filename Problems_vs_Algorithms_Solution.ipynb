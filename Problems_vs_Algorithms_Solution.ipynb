{
  "nbformat": 4,
  "nbformat_minor": 0,
  "metadata": {
    "kernelspec": {
      "display_name": "Python 3",
      "language": "python",
      "name": "python3"
    },
    "language_info": {
      "codemirror_mode": {
        "name": "ipython",
        "version": 3
      },
      "file_extension": ".py",
      "mimetype": "text/x-python",
      "name": "python",
      "nbconvert_exporter": "python",
      "pygments_lexer": "ipython3",
      "version": "3.7.4"
    },
    "widgets": {
      "application/vnd.jupyter.widget-state+json": {
        "49c32617fb264431b4d53e4fcd4bbd32": {
          "model_module": "@jupyter-widgets/controls",
          "model_name": "VBoxModel",
          "state": {
            "_view_name": "VBoxView",
            "_dom_classes": [
              "widget-interact"
            ],
            "_model_name": "VBoxModel",
            "_view_module": "@jupyter-widgets/controls",
            "_model_module_version": "1.5.0",
            "_view_count": null,
            "_view_module_version": "1.5.0",
            "box_style": "",
            "layout": "IPY_MODEL_54cdf8bc09a04cbebb2c9a784c69aec6",
            "_model_module": "@jupyter-widgets/controls",
            "children": [
              "IPY_MODEL_60a0b298600c44d5beab8b1658e4309e",
              "IPY_MODEL_2c36c5edd6e14403b5003a62b7e8ca88"
            ]
          }
        },
        "54cdf8bc09a04cbebb2c9a784c69aec6": {
          "model_module": "@jupyter-widgets/base",
          "model_name": "LayoutModel",
          "state": {
            "_view_name": "LayoutView",
            "grid_template_rows": null,
            "right": null,
            "justify_content": null,
            "_view_module": "@jupyter-widgets/base",
            "overflow": null,
            "_model_module_version": "1.2.0",
            "_view_count": null,
            "flex_flow": null,
            "width": null,
            "min_width": null,
            "border": null,
            "align_items": null,
            "bottom": null,
            "_model_module": "@jupyter-widgets/base",
            "top": null,
            "grid_column": null,
            "overflow_y": null,
            "overflow_x": null,
            "grid_auto_flow": null,
            "grid_area": null,
            "grid_template_columns": null,
            "flex": null,
            "_model_name": "LayoutModel",
            "justify_items": null,
            "grid_row": null,
            "max_height": null,
            "align_content": null,
            "visibility": null,
            "align_self": null,
            "height": null,
            "min_height": null,
            "padding": null,
            "grid_auto_rows": null,
            "grid_gap": null,
            "max_width": null,
            "order": null,
            "_view_module_version": "1.2.0",
            "grid_template_areas": null,
            "object_position": null,
            "object_fit": null,
            "grid_auto_columns": null,
            "margin": null,
            "display": null,
            "left": null
          }
        },
        "60a0b298600c44d5beab8b1658e4309e": {
          "model_module": "@jupyter-widgets/controls",
          "model_name": "TextModel",
          "state": {
            "_view_name": "TextView",
            "style": "IPY_MODEL_f5378f08a3df4069b934e481848766d9",
            "_dom_classes": [],
            "description": "prefix",
            "_model_name": "TextModel",
            "placeholder": "​",
            "_view_module": "@jupyter-widgets/controls",
            "_model_module_version": "1.5.0",
            "value": "",
            "_view_count": null,
            "disabled": false,
            "_view_module_version": "1.5.0",
            "continuous_update": true,
            "description_tooltip": null,
            "_model_module": "@jupyter-widgets/controls",
            "layout": "IPY_MODEL_4ad378da46eb4dc0ad21d824c27fed77"
          }
        },
        "2c36c5edd6e14403b5003a62b7e8ca88": {
          "model_module": "@jupyter-widgets/output",
          "model_name": "OutputModel",
          "state": {
            "_view_name": "OutputView",
            "msg_id": "",
            "_dom_classes": [],
            "_model_name": "OutputModel",
            "outputs": [
              {
                "output_type": "stream",
                "metadata": {
                  "tags": []
                },
                "text": "\n",
                "stream": "stdout"
              }
            ],
            "_view_module": "@jupyter-widgets/output",
            "_model_module_version": "1.0.0",
            "_view_count": null,
            "_view_module_version": "1.0.0",
            "layout": "IPY_MODEL_a30925388c044aa689f958555225fa79",
            "_model_module": "@jupyter-widgets/output"
          }
        },
        "f5378f08a3df4069b934e481848766d9": {
          "model_module": "@jupyter-widgets/controls",
          "model_name": "DescriptionStyleModel",
          "state": {
            "_view_name": "StyleView",
            "_model_name": "DescriptionStyleModel",
            "description_width": "",
            "_view_module": "@jupyter-widgets/base",
            "_model_module_version": "1.5.0",
            "_view_count": null,
            "_view_module_version": "1.2.0",
            "_model_module": "@jupyter-widgets/controls"
          }
        },
        "4ad378da46eb4dc0ad21d824c27fed77": {
          "model_module": "@jupyter-widgets/base",
          "model_name": "LayoutModel",
          "state": {
            "_view_name": "LayoutView",
            "grid_template_rows": null,
            "right": null,
            "justify_content": null,
            "_view_module": "@jupyter-widgets/base",
            "overflow": null,
            "_model_module_version": "1.2.0",
            "_view_count": null,
            "flex_flow": null,
            "width": null,
            "min_width": null,
            "border": null,
            "align_items": null,
            "bottom": null,
            "_model_module": "@jupyter-widgets/base",
            "top": null,
            "grid_column": null,
            "overflow_y": null,
            "overflow_x": null,
            "grid_auto_flow": null,
            "grid_area": null,
            "grid_template_columns": null,
            "flex": null,
            "_model_name": "LayoutModel",
            "justify_items": null,
            "grid_row": null,
            "max_height": null,
            "align_content": null,
            "visibility": null,
            "align_self": null,
            "height": null,
            "min_height": null,
            "padding": null,
            "grid_auto_rows": null,
            "grid_gap": null,
            "max_width": null,
            "order": null,
            "_view_module_version": "1.2.0",
            "grid_template_areas": null,
            "object_position": null,
            "object_fit": null,
            "grid_auto_columns": null,
            "margin": null,
            "display": null,
            "left": null
          }
        },
        "a30925388c044aa689f958555225fa79": {
          "model_module": "@jupyter-widgets/base",
          "model_name": "LayoutModel",
          "state": {
            "_view_name": "LayoutView",
            "grid_template_rows": null,
            "right": null,
            "justify_content": null,
            "_view_module": "@jupyter-widgets/base",
            "overflow": null,
            "_model_module_version": "1.2.0",
            "_view_count": null,
            "flex_flow": null,
            "width": null,
            "min_width": null,
            "border": null,
            "align_items": null,
            "bottom": null,
            "_model_module": "@jupyter-widgets/base",
            "top": null,
            "grid_column": null,
            "overflow_y": null,
            "overflow_x": null,
            "grid_auto_flow": null,
            "grid_area": null,
            "grid_template_columns": null,
            "flex": null,
            "_model_name": "LayoutModel",
            "justify_items": null,
            "grid_row": null,
            "max_height": null,
            "align_content": null,
            "visibility": null,
            "align_self": null,
            "height": null,
            "min_height": null,
            "padding": null,
            "grid_auto_rows": null,
            "grid_gap": null,
            "max_width": null,
            "order": null,
            "_view_module_version": "1.2.0",
            "grid_template_areas": null,
            "object_position": null,
            "object_fit": null,
            "grid_auto_columns": null,
            "margin": null,
            "display": null,
            "left": null
          }
        }
      }
    },
    "colab": {
      "name": "Problems vs Algorithms Solution.ipynb",
      "provenance": []
    }
  },
  "cells": [
    {
      "cell_type": "markdown",
      "metadata": {
        "id": "1YTThoJSFc0e",
        "colab_type": "text"
      },
      "source": [
        "# Problem 1: Finding Square Root of an Integer"
      ]
    },
    {
      "cell_type": "code",
      "metadata": {
        "id": "HYEMnqTUFesc",
        "colab_type": "code",
        "colab": {
          "base_uri": "https://localhost:8080/",
          "height": 434
        },
        "outputId": "9d074a83-be72-45cf-f0e9-bbcd613fe90c"
      },
      "source": [
        "'''\n",
        "Problem 1: Square Root of an Integer\n",
        "'''\n",
        "\n",
        "def initial_guess(n: int):\n",
        "    n_digits = len(str(n))\n",
        "\n",
        "\n",
        "    # For results with even number of zeros (i.e. 10,0000) guess 10^(half as many digits)\n",
        "    # For results with an odd number, guess 6 * 10 ^(half as many digits - 1)\n",
        "\n",
        "    if (n_digits-1) % 2 == 0:\n",
        "        return 10**((n_digits-1) // 2)\n",
        "    else:\n",
        "        return 6 * 10**((n_digits-1) // 2)\n",
        "\n",
        "\n",
        "def sqrt(n: int, guess: int = None):\n",
        "\n",
        "    \"\"\"\n",
        "    Calculate the floored square root of a number\n",
        "\n",
        "    Args:\n",
        "       n(int): Number to find the floored squared root\n",
        "       guess(int): Optional integer guess for the square root\n",
        "    Returns:\n",
        "       int: Floored Square Root\n",
        "    \"\"\"\n",
        "\n",
        "\n",
        "    assert isinstance(n, int), 'Must be an integer'\n",
        "    assert n >= 0, 'Must be a positive integer'\n",
        "    \n",
        "    # If no guess is supplied, get guess from initial_guess algorithm\n",
        "\n",
        "    if not isinstance(guess, int):\n",
        "        guess = initial_guess(n)\n",
        "    else:\n",
        "        assert guess >= 0\n",
        "    \n",
        "    # Check if the guess is the answer, if not use the Babylonian method\n",
        "    # to update the new guess and iterate\n",
        "\n",
        "    if (guess ** 2 <= n) & ((guess+1)**2 > n):\n",
        "        return guess\n",
        "    else:\n",
        "        return sqrt(n, (guess + n // guess)//2)\n",
        "\n",
        "\n",
        "if __name__ == '__main__':\n",
        "\n",
        "    # Test proper guess behavior\n",
        "    assert initial_guess(10000) == 100\n",
        "    assert initial_guess(1000) == 60\n",
        "\n",
        "    # Should return 3\n",
        "    print(sqrt(9))\n",
        "\n",
        "    # Should return 1\n",
        "    print(sqrt(1))\n",
        "\n",
        "    # Should return 0\n",
        "    print(sqrt(0))\n",
        "\n",
        "    # Should return 600\n",
        "    print(sqrt(360000))\n",
        "\n",
        "    # Should return 99\n",
        "    print(sqrt(9999))\n",
        "\n",
        "    # Should return 31\n",
        "    print(sqrt(1000))\n",
        "\n",
        "    # Should raise an error\n",
        "    print(sqrt(-1))"
      ],
      "execution_count": 6,
      "outputs": [
        {
          "output_type": "stream",
          "text": [
            "3\n",
            "1\n",
            "0\n",
            "600\n",
            "99\n",
            "31\n"
          ],
          "name": "stdout"
        },
        {
          "output_type": "error",
          "ename": "AssertionError",
          "evalue": "ignored",
          "traceback": [
            "\u001b[0;31m---------------------------------------------------------------------------\u001b[0m",
            "\u001b[0;31mAssertionError\u001b[0m                            Traceback (most recent call last)",
            "\u001b[0;32m<ipython-input-6-d25344e03532>\u001b[0m in \u001b[0;36m<module>\u001b[0;34m()\u001b[0m\n\u001b[1;32m     73\u001b[0m \u001b[0;34m\u001b[0m\u001b[0m\n\u001b[1;32m     74\u001b[0m     \u001b[0;31m# Should raise an error\u001b[0m\u001b[0;34m\u001b[0m\u001b[0;34m\u001b[0m\u001b[0;34m\u001b[0m\u001b[0m\n\u001b[0;32m---> 75\u001b[0;31m     \u001b[0mprint\u001b[0m\u001b[0;34m(\u001b[0m\u001b[0msqrt\u001b[0m\u001b[0;34m(\u001b[0m\u001b[0;34m-\u001b[0m\u001b[0;36m1\u001b[0m\u001b[0;34m)\u001b[0m\u001b[0;34m)\u001b[0m\u001b[0;34m\u001b[0m\u001b[0;34m\u001b[0m\u001b[0m\n\u001b[0m",
            "\u001b[0;32m<ipython-input-6-d25344e03532>\u001b[0m in \u001b[0;36msqrt\u001b[0;34m(n, guess)\u001b[0m\n\u001b[1;32m     30\u001b[0m \u001b[0;34m\u001b[0m\u001b[0m\n\u001b[1;32m     31\u001b[0m     \u001b[0;32massert\u001b[0m \u001b[0misinstance\u001b[0m\u001b[0;34m(\u001b[0m\u001b[0mn\u001b[0m\u001b[0;34m,\u001b[0m \u001b[0mint\u001b[0m\u001b[0;34m)\u001b[0m\u001b[0;34m,\u001b[0m \u001b[0;34m'Must be an integer'\u001b[0m\u001b[0;34m\u001b[0m\u001b[0;34m\u001b[0m\u001b[0m\n\u001b[0;32m---> 32\u001b[0;31m     \u001b[0;32massert\u001b[0m \u001b[0mn\u001b[0m \u001b[0;34m>=\u001b[0m \u001b[0;36m0\u001b[0m\u001b[0;34m,\u001b[0m \u001b[0;34m'Must be a positive integer'\u001b[0m\u001b[0;34m\u001b[0m\u001b[0;34m\u001b[0m\u001b[0m\n\u001b[0m\u001b[1;32m     33\u001b[0m \u001b[0;34m\u001b[0m\u001b[0m\n\u001b[1;32m     34\u001b[0m     \u001b[0;31m# If no guess is supplied, get guess from initial_guess algorithm\u001b[0m\u001b[0;34m\u001b[0m\u001b[0;34m\u001b[0m\u001b[0;34m\u001b[0m\u001b[0m\n",
            "\u001b[0;31mAssertionError\u001b[0m: Must be a positive integer"
          ]
        }
      ]
    },
    {
      "cell_type": "markdown",
      "metadata": {
        "id": "iTibvG0SF_Jr",
        "colab_type": "text"
      },
      "source": [
        "# Problem 2: Search in a Rotated Sorted Array"
      ]
    },
    {
      "cell_type": "code",
      "metadata": {
        "id": "SjAz8dM5GGii",
        "colab_type": "code",
        "colab": {
          "base_uri": "https://localhost:8080/",
          "height": 434
        },
        "outputId": "e7d79505-3a74-410f-9c02-f4ec5c829791"
      },
      "source": [
        "'''Problem 2: Search in a Rotated Sorted Array\n",
        "'''\n",
        "\n",
        "\n",
        "def find_pivot(l: list) -> int:\n",
        "\n",
        "    # Find the location of the pivot element in a \n",
        "    # pivoted array via binary search\n",
        "\n",
        "    start = 0\n",
        "    end = len(l) - 1\n",
        "\n",
        "    # Find mid-point\n",
        "\n",
        "    while start <= end:\n",
        "        mid = (start + end) // 2\n",
        "        \n",
        "        # The pivot is the one element that is unsorted\n",
        "\n",
        "        if l[mid] < l[mid-1]:\n",
        "            return mid\n",
        "        elif l[start] > l[mid]:\n",
        "            end = mid\n",
        "        else:    \n",
        "            start = mid\n",
        "\n",
        "\n",
        "def binary_search(l: list, value: int, pivot: int = 0) -> int:\n",
        "\n",
        "    # Binary search in a sorted list using index values\n",
        "    # rotated by a pivot value (if supplied)\n",
        "\n",
        "    n = len(l)\n",
        "\n",
        "    start = 0\n",
        "    end = n - 1\n",
        "\n",
        "    while start <= end:\n",
        "        mid = (start + end) // 2\n",
        "        \n",
        "        # Rotate indices if a pivot is supplied\n",
        "\n",
        "        if l[(mid + pivot) % n] == value:\n",
        "            return (mid + pivot) % n\n",
        "        elif l[(mid + pivot) % n] > value:\n",
        "            end = mid-1\n",
        "        else:    \n",
        "            start = mid+1\n",
        "    \n",
        "    return -1\n",
        "\n",
        "def rotated_array_search(\n",
        "    input_list: list, \n",
        "    value: int) -> int:\n",
        "\n",
        "    \"\"\"\n",
        "    Find the index by searching in a rotated sorted array\n",
        "\n",
        "    Args:\n",
        "       input_list(array), number(int): Input array to search and the target\n",
        "    Returns:\n",
        "       int: Index or -1\n",
        "    \"\"\"\n",
        "\n",
        "\n",
        "    # Test that list elements are integers\n",
        "\n",
        "    assert input_list, 'Must pass a non-empty array of integers'\n",
        "    assert all(isinstance(i, int) for i in input_list), 'Must pass an array of integers'\n",
        "\n",
        "    # Test if the array is sorted\n",
        "\n",
        "    if input_list[-1] > input_list[0]:\n",
        "        pivot = 0\n",
        "\n",
        "    # If not, find pivot point\n",
        "\n",
        "    else:\n",
        "        pivot = find_pivot(input_list)\n",
        "\n",
        "    # Use binary search using rotated array indices\n",
        "\n",
        "    return binary_search(input_list, value, pivot)\n",
        "\n",
        "\n",
        "if __name__ == '__main__':\n",
        "    test_list1 = [4, 5, 6, 7, 0, 1, 2]\n",
        "    test_list2 = [6, 7, 8, 9, 10, 1, 2, 3, 4]\n",
        "\n",
        "    # Test proper find_pivot behavior\n",
        "    assert find_pivot(test_list1) == 4\n",
        "    assert find_pivot(test_list2) == 5\n",
        "\n",
        "    # Test proper binary search behavior\n",
        "    assert binary_search([0, 1, 3, 4, 5], 4) == 3\n",
        "    assert binary_search([0, 1, 3, 4, 5], 0) == 0\n",
        "\n",
        "    # Should print 2\n",
        "    print(rotated_array_search(test_list1, 6))\n",
        "\n",
        "    # Should print 5\n",
        "    print(rotated_array_search(test_list1, 1))\n",
        "\n",
        "    # Should print 6\n",
        "    print(rotated_array_search(test_list1, 2))\n",
        "\n",
        "     # Should print 0\n",
        "    print(rotated_array_search(test_list2, 6))\n",
        "\n",
        "    # Should print -1\n",
        "    print(rotated_array_search(test_list2, 5))\n",
        "\n",
        "    # Sorted and non-rotated array, should print 0\n",
        "    print(rotated_array_search([1, 2, 3, 4, 5], 1))\n",
        "\n",
        "    # Empty list, should raise an error\n",
        "    print(rotated_array_search([], 1))\n"
      ],
      "execution_count": 5,
      "outputs": [
        {
          "output_type": "stream",
          "text": [
            "2\n",
            "5\n",
            "6\n",
            "0\n",
            "-1\n",
            "0\n"
          ],
          "name": "stdout"
        },
        {
          "output_type": "error",
          "ename": "AssertionError",
          "evalue": "ignored",
          "traceback": [
            "\u001b[0;31m---------------------------------------------------------------------------\u001b[0m",
            "\u001b[0;31mAssertionError\u001b[0m                            Traceback (most recent call last)",
            "\u001b[0;32m<ipython-input-5-cddf9fce228e>\u001b[0m in \u001b[0;36m<module>\u001b[0;34m()\u001b[0m\n\u001b[1;32m    115\u001b[0m \u001b[0;34m\u001b[0m\u001b[0m\n\u001b[1;32m    116\u001b[0m     \u001b[0;31m# Empty list, should raise an error\u001b[0m\u001b[0;34m\u001b[0m\u001b[0;34m\u001b[0m\u001b[0;34m\u001b[0m\u001b[0m\n\u001b[0;32m--> 117\u001b[0;31m     \u001b[0mprint\u001b[0m\u001b[0;34m(\u001b[0m\u001b[0mrotated_array_search\u001b[0m\u001b[0;34m(\u001b[0m\u001b[0;34m[\u001b[0m\u001b[0;34m]\u001b[0m\u001b[0;34m,\u001b[0m \u001b[0;36m1\u001b[0m\u001b[0;34m)\u001b[0m\u001b[0;34m)\u001b[0m\u001b[0;34m\u001b[0m\u001b[0;34m\u001b[0m\u001b[0m\n\u001b[0m",
            "\u001b[0;32m<ipython-input-5-cddf9fce228e>\u001b[0m in \u001b[0;36mrotated_array_search\u001b[0;34m(input_list, value)\u001b[0m\n\u001b[1;32m     66\u001b[0m     \u001b[0;31m# Test that list elements are integers\u001b[0m\u001b[0;34m\u001b[0m\u001b[0;34m\u001b[0m\u001b[0;34m\u001b[0m\u001b[0m\n\u001b[1;32m     67\u001b[0m \u001b[0;34m\u001b[0m\u001b[0m\n\u001b[0;32m---> 68\u001b[0;31m     \u001b[0;32massert\u001b[0m \u001b[0minput_list\u001b[0m\u001b[0;34m,\u001b[0m \u001b[0;34m'Must pass a non-empty array of integers'\u001b[0m\u001b[0;34m\u001b[0m\u001b[0;34m\u001b[0m\u001b[0m\n\u001b[0m\u001b[1;32m     69\u001b[0m     \u001b[0;32massert\u001b[0m \u001b[0mall\u001b[0m\u001b[0;34m(\u001b[0m\u001b[0misinstance\u001b[0m\u001b[0;34m(\u001b[0m\u001b[0mi\u001b[0m\u001b[0;34m,\u001b[0m \u001b[0mint\u001b[0m\u001b[0;34m)\u001b[0m \u001b[0;32mfor\u001b[0m \u001b[0mi\u001b[0m \u001b[0;32min\u001b[0m \u001b[0minput_list\u001b[0m\u001b[0;34m)\u001b[0m\u001b[0;34m,\u001b[0m \u001b[0;34m'Must pass an array of integers'\u001b[0m\u001b[0;34m\u001b[0m\u001b[0;34m\u001b[0m\u001b[0m\n\u001b[1;32m     70\u001b[0m \u001b[0;34m\u001b[0m\u001b[0m\n",
            "\u001b[0;31mAssertionError\u001b[0m: Must pass a non-empty array of integers"
          ]
        }
      ]
    },
    {
      "cell_type": "markdown",
      "metadata": {
        "id": "AtzuvYRBGUuf",
        "colab_type": "text"
      },
      "source": [
        "# Problem 3: Rearrange Array Elements"
      ]
    },
    {
      "cell_type": "code",
      "metadata": {
        "id": "RnE7d5YJGbuL",
        "colab_type": "code",
        "colab": {
          "base_uri": "https://localhost:8080/",
          "height": 416
        },
        "outputId": "e937acbb-e129-470e-90d7-04c22a39ebb7"
      },
      "source": [
        "'''\n",
        "Problem 3: Rearrange Array Elements\n",
        "'''\n",
        "\n",
        "def reverse_merge(left: list, right: list) -> list:\n",
        "\n",
        "    #Merge sorted arrays for merge sort in reverse order\n",
        "\n",
        "    merged = []\n",
        "    right_ix = 0\n",
        "    left_ix = 0\n",
        "\n",
        "    while left_ix < len(left) and right_ix < len(right):\n",
        "        if left[left_ix] > right[right_ix]:\n",
        "            merged.append(left[left_ix])\n",
        "            left_ix += 1\n",
        "        else:\n",
        "            merged.append(right[right_ix])\n",
        "            right_ix += 1\n",
        "\n",
        "    merged += left[left_ix:]\n",
        "    merged += right[right_ix:]\n",
        "\n",
        "    return merged\n",
        "\n",
        "def merge_sort(l: list) -> list:\n",
        "\n",
        "    ''' Basic merge sort, in reverse order\n",
        "\n",
        "    Args:\n",
        "       l(list): Unsorted array\n",
        "    Returns:\n",
        "       l(list): Sorted array\n",
        "    '''\n",
        "\n",
        "    if len(l) <= 1:\n",
        "        return l\n",
        "\n",
        "    # Find mid-point and split array\n",
        "\n",
        "    mid = len(l) // 2\n",
        "    left = merge_sort(l[:mid])\n",
        "    right = merge_sort(l[mid:])\n",
        "\n",
        "    # Return merged and sorted array\n",
        "\n",
        "    return reverse_merge(left, right)\n",
        "\n",
        "def rearrange_digits(input_list: list) -> tuple:\n",
        "\n",
        "\n",
        "    \"\"\"\n",
        "    Rearrange Array Elements so as to form two number such that their sum is maximum.\n",
        "\n",
        "    Args:\n",
        "       input_list(list): Input List\n",
        "    Returns:\n",
        "       list: Two maximum sums\n",
        "    \"\"\"\n",
        "\n",
        "    # Test that list elements are digits\n",
        "\n",
        "    assert input_list, 'Must pass a non-empty array of digits'\n",
        "    assert all(isinstance(i, int) for i in input_list), 'Must pass an array of digits'\n",
        "    assert all(i<10 and i >= 0 for i in input_list), 'Must pass an array of digits'\n",
        "\n",
        "    # If inpit is a single digit, return that digit\n",
        "\n",
        "    if len(input_list) == 1:\n",
        "        return input_list[0], None\n",
        "\n",
        "    # Empty lists to hold final digits\n",
        "\n",
        "    out1 = []\n",
        "    out2 = []\n",
        "    \n",
        "    # First sort the list\n",
        "\n",
        "    l = merge_sort(input_list)\n",
        "\n",
        "    # Build two integers one at a time, starting with the largest digits\n",
        "\n",
        "    for i, el in enumerate(l):\n",
        "        if i % 2 == 0:\n",
        "            out1.append(el)\n",
        "        else:\n",
        "            out2.append(el)\n",
        "\n",
        "    # Convert lists of digits into integers\n",
        "\n",
        "    out1 = int(''.join([str(i) for i in out1]))\n",
        "    out2 = int(''.join([str(i) for i in out2]))\n",
        "\n",
        "    return out1, out2\n",
        "\n",
        "\n",
        "if __name__ == '__main__':\n",
        "    test_list = [1, 2, 3, 4, 5]\n",
        "\n",
        "    # Test proper merge behavior\n",
        "    assert reverse_merge([1], [2]) == [2, 1]\n",
        "    assert reverse_merge([3, 1], [4, 2]) == [4, 3, 2, 1]\n",
        "\n",
        "    # Test proper sort behavior\n",
        "    assert merge_sort(test_list) == [5, 4, 3, 2, 1]\n",
        "\n",
        "    # Should print 531, 42\n",
        "    print(rearrange_digits([1, 2, 3, 4, 5]))\n",
        "\n",
        "    # Should print 964, 852\n",
        "    print(rearrange_digits([4, 6, 2, 5, 9, 8]))\n",
        "\n",
        "    # Should print 1000, 100\n",
        "    print(rearrange_digits([0, 0, 1, 1, 0, 0, 0]))\n",
        "\n",
        "    # Should return 0, 0\n",
        "    print(rearrange_digits([0, 0, 0, 0, 0, 0, 0]))\n",
        "\n",
        "    # Single digit, should print 5, None\n",
        "    print(rearrange_digits([5]))\n",
        "\n",
        "    # Empty list, should raise an error\n",
        "    print(rearrange_digits([]))"
      ],
      "execution_count": 7,
      "outputs": [
        {
          "output_type": "stream",
          "text": [
            "(531, 42)\n",
            "(964, 852)\n",
            "(1000, 100)\n",
            "(0, 0)\n",
            "(5, None)\n"
          ],
          "name": "stdout"
        },
        {
          "output_type": "error",
          "ename": "AssertionError",
          "evalue": "ignored",
          "traceback": [
            "\u001b[0;31m---------------------------------------------------------------------------\u001b[0m",
            "\u001b[0;31mAssertionError\u001b[0m                            Traceback (most recent call last)",
            "\u001b[0;32m<ipython-input-7-744d2b5764f7>\u001b[0m in \u001b[0;36m<module>\u001b[0;34m()\u001b[0m\n\u001b[1;32m    121\u001b[0m \u001b[0;34m\u001b[0m\u001b[0m\n\u001b[1;32m    122\u001b[0m     \u001b[0;31m# Empty list, should raise an error\u001b[0m\u001b[0;34m\u001b[0m\u001b[0;34m\u001b[0m\u001b[0;34m\u001b[0m\u001b[0m\n\u001b[0;32m--> 123\u001b[0;31m     \u001b[0mprint\u001b[0m\u001b[0;34m(\u001b[0m\u001b[0mrearrange_digits\u001b[0m\u001b[0;34m(\u001b[0m\u001b[0;34m[\u001b[0m\u001b[0;34m]\u001b[0m\u001b[0;34m)\u001b[0m\u001b[0;34m)\u001b[0m\u001b[0;34m\u001b[0m\u001b[0;34m\u001b[0m\u001b[0m\n\u001b[0m",
            "\u001b[0;32m<ipython-input-7-744d2b5764f7>\u001b[0m in \u001b[0;36mrearrange_digits\u001b[0;34m(input_list)\u001b[0m\n\u001b[1;32m     61\u001b[0m     \u001b[0;31m# Test that list elements are digits\u001b[0m\u001b[0;34m\u001b[0m\u001b[0;34m\u001b[0m\u001b[0;34m\u001b[0m\u001b[0m\n\u001b[1;32m     62\u001b[0m \u001b[0;34m\u001b[0m\u001b[0m\n\u001b[0;32m---> 63\u001b[0;31m     \u001b[0;32massert\u001b[0m \u001b[0minput_list\u001b[0m\u001b[0;34m,\u001b[0m \u001b[0;34m'Must pass a non-empty array of digits'\u001b[0m\u001b[0;34m\u001b[0m\u001b[0;34m\u001b[0m\u001b[0m\n\u001b[0m\u001b[1;32m     64\u001b[0m     \u001b[0;32massert\u001b[0m \u001b[0mall\u001b[0m\u001b[0;34m(\u001b[0m\u001b[0misinstance\u001b[0m\u001b[0;34m(\u001b[0m\u001b[0mi\u001b[0m\u001b[0;34m,\u001b[0m \u001b[0mint\u001b[0m\u001b[0;34m)\u001b[0m \u001b[0;32mfor\u001b[0m \u001b[0mi\u001b[0m \u001b[0;32min\u001b[0m \u001b[0minput_list\u001b[0m\u001b[0;34m)\u001b[0m\u001b[0;34m,\u001b[0m \u001b[0;34m'Must pass an array of digits'\u001b[0m\u001b[0;34m\u001b[0m\u001b[0;34m\u001b[0m\u001b[0m\n\u001b[1;32m     65\u001b[0m     \u001b[0;32massert\u001b[0m \u001b[0mall\u001b[0m\u001b[0;34m(\u001b[0m\u001b[0mi\u001b[0m\u001b[0;34m<\u001b[0m\u001b[0;36m10\u001b[0m \u001b[0;32mand\u001b[0m \u001b[0mi\u001b[0m \u001b[0;34m>=\u001b[0m \u001b[0;36m0\u001b[0m \u001b[0;32mfor\u001b[0m \u001b[0mi\u001b[0m \u001b[0;32min\u001b[0m \u001b[0minput_list\u001b[0m\u001b[0;34m)\u001b[0m\u001b[0;34m,\u001b[0m \u001b[0;34m'Must pass an array of digits'\u001b[0m\u001b[0;34m\u001b[0m\u001b[0;34m\u001b[0m\u001b[0m\n",
            "\u001b[0;31mAssertionError\u001b[0m: Must pass a non-empty array of digits"
          ]
        }
      ]
    },
    {
      "cell_type": "markdown",
      "metadata": {
        "id": "Va2ilMiEHNnU",
        "colab_type": "text"
      },
      "source": [
        "# Problem 4: Dutch National Flag Problem"
      ]
    },
    {
      "cell_type": "code",
      "metadata": {
        "id": "YK4uQr9gHRRI",
        "colab_type": "code",
        "colab": {
          "base_uri": "https://localhost:8080/",
          "height": 398
        },
        "outputId": "4479ffb6-15bb-4c2f-9596-618b8a270ea1"
      },
      "source": [
        "'''\n",
        "Problem 4: Dutch National Flag Problem\n",
        "'''\n",
        "\n",
        "def sort_012(input_list):\n",
        "\n",
        "    \"\"\"\n",
        "    Given an input array consisting on only 0, 1, and 2, sort the array in a single traversal.\n",
        "\n",
        "    Args:\n",
        "       input_list(list): List to be sorted\n",
        "    \"\"\"\n",
        "\n",
        "    # Test that list elements are 0, 1 or 2\n",
        "\n",
        "    assert input_list, 'Must pass a non-empty array of 0, 1 or 2'\n",
        "    assert all(isinstance(i, int) for i in input_list), 'Must pass an array of 0, 1 or 2'\n",
        "    assert all(i<3 and i >= 0 for i in input_list), 'Must pass an array of 0, 1 or 2'\n",
        "\n",
        "    # Empty lists to catch sorted elements\n",
        "\n",
        "    zeros = []\n",
        "    ones = []\n",
        "    twos = []\n",
        "    for i in input_list:\n",
        "        if i == 2:\n",
        "            twos.append(i)\n",
        "        elif i == 1:\n",
        "            ones.append(i)\n",
        "        else:\n",
        "            zeros.append(i)\n",
        "    \n",
        "    # Combine into a single list\n",
        "\n",
        "    zeros.extend(ones)\n",
        "    zeros.extend(twos)\n",
        "    return zeros\n",
        "\n",
        "\n",
        "if __name__ == '__main__':\n",
        "    test_list_1 = [1, 0, 2, 0]\n",
        "    test_list_2 = [0, 0, 2, 2, 2, 1, 1, 1, 2, 0, 2]\n",
        "    test_list_3 = [0, 0, 0]\n",
        "\n",
        "    # Should return [0, 0, 1, 2]\n",
        "    print(sort_012(test_list_1))\n",
        "\n",
        "    # Should return [0, 0, 0, 1, 1, 1, 2, 2, 2, 2, 2]\n",
        "    print(sort_012(test_list_2))\n",
        "\n",
        "    # Should return [0, 0, 0]\n",
        "    print(sort_012(test_list_3))\n",
        "\n",
        "    # Single digit, should return [1]\n",
        "    print(sort_012([1]))\n",
        "\n",
        "    # Empty list, Should raise an error\n",
        "    print(sort_012([]))"
      ],
      "execution_count": 13,
      "outputs": [
        {
          "output_type": "stream",
          "text": [
            "[0, 0, 1, 2]\n",
            "[0, 0, 0, 1, 1, 1, 2, 2, 2, 2, 2]\n",
            "[0, 0, 0]\n",
            "[1]\n"
          ],
          "name": "stdout"
        },
        {
          "output_type": "error",
          "ename": "AssertionError",
          "evalue": "ignored",
          "traceback": [
            "\u001b[0;31m---------------------------------------------------------------------------\u001b[0m",
            "\u001b[0;31mAssertionError\u001b[0m                            Traceback (most recent call last)",
            "\u001b[0;32m<ipython-input-13-193964b3871f>\u001b[0m in \u001b[0;36m<module>\u001b[0;34m()\u001b[0m\n\u001b[1;32m     56\u001b[0m \u001b[0;34m\u001b[0m\u001b[0m\n\u001b[1;32m     57\u001b[0m     \u001b[0;31m# Empty list, Should raise an error\u001b[0m\u001b[0;34m\u001b[0m\u001b[0;34m\u001b[0m\u001b[0;34m\u001b[0m\u001b[0m\n\u001b[0;32m---> 58\u001b[0;31m     \u001b[0mprint\u001b[0m\u001b[0;34m(\u001b[0m\u001b[0msort_012\u001b[0m\u001b[0;34m(\u001b[0m\u001b[0;34m[\u001b[0m\u001b[0;34m]\u001b[0m\u001b[0;34m)\u001b[0m\u001b[0;34m)\u001b[0m\u001b[0;34m\u001b[0m\u001b[0;34m\u001b[0m\u001b[0m\n\u001b[0m",
            "\u001b[0;32m<ipython-input-13-193964b3871f>\u001b[0m in \u001b[0;36msort_012\u001b[0;34m(input_list)\u001b[0m\n\u001b[1;32m     14\u001b[0m     \u001b[0;31m# Test that list elements are 0, 1 or 2\u001b[0m\u001b[0;34m\u001b[0m\u001b[0;34m\u001b[0m\u001b[0;34m\u001b[0m\u001b[0m\n\u001b[1;32m     15\u001b[0m \u001b[0;34m\u001b[0m\u001b[0m\n\u001b[0;32m---> 16\u001b[0;31m     \u001b[0;32massert\u001b[0m \u001b[0minput_list\u001b[0m\u001b[0;34m,\u001b[0m \u001b[0;34m'Must pass a non-empty array of 0, 1 or 2'\u001b[0m\u001b[0;34m\u001b[0m\u001b[0;34m\u001b[0m\u001b[0m\n\u001b[0m\u001b[1;32m     17\u001b[0m     \u001b[0;32massert\u001b[0m \u001b[0mall\u001b[0m\u001b[0;34m(\u001b[0m\u001b[0misinstance\u001b[0m\u001b[0;34m(\u001b[0m\u001b[0mi\u001b[0m\u001b[0;34m,\u001b[0m \u001b[0mint\u001b[0m\u001b[0;34m)\u001b[0m \u001b[0;32mfor\u001b[0m \u001b[0mi\u001b[0m \u001b[0;32min\u001b[0m \u001b[0minput_list\u001b[0m\u001b[0;34m)\u001b[0m\u001b[0;34m,\u001b[0m \u001b[0;34m'Must pass an array of 0, 1 or 2'\u001b[0m\u001b[0;34m\u001b[0m\u001b[0;34m\u001b[0m\u001b[0m\n\u001b[1;32m     18\u001b[0m     \u001b[0;32massert\u001b[0m \u001b[0mall\u001b[0m\u001b[0;34m(\u001b[0m\u001b[0mi\u001b[0m\u001b[0;34m<\u001b[0m\u001b[0;36m3\u001b[0m \u001b[0;32mand\u001b[0m \u001b[0mi\u001b[0m \u001b[0;34m>=\u001b[0m \u001b[0;36m0\u001b[0m \u001b[0;32mfor\u001b[0m \u001b[0mi\u001b[0m \u001b[0;32min\u001b[0m \u001b[0minput_list\u001b[0m\u001b[0;34m)\u001b[0m\u001b[0;34m,\u001b[0m \u001b[0;34m'Must pass an array of 0, 1 or 2'\u001b[0m\u001b[0;34m\u001b[0m\u001b[0;34m\u001b[0m\u001b[0m\n",
            "\u001b[0;31mAssertionError\u001b[0m: Must pass a non-empty array of 0, 1 or 2"
          ]
        }
      ]
    },
    {
      "cell_type": "markdown",
      "metadata": {
        "id": "IHk0XC5eE0Lx",
        "colab_type": "text"
      },
      "source": [
        "#Problem 5: Building a Trie in Python\n",
        "\n"
      ]
    },
    {
      "cell_type": "code",
      "metadata": {
        "id": "OvufSoOPE0Ly",
        "colab_type": "code",
        "colab": {}
      },
      "source": [
        "## Represents a single node in the Trie\n",
        "class TrieNode:\n",
        "    def __init__(self):\n",
        "        self.is_word = False\n",
        "        self.children = {}\n",
        "    \n",
        "    def insert(self, char):\n",
        "        self.children[char] = TrieNode()\n",
        "        \n",
        "## The Trie itself containing the root node and insert/find functions\n",
        "class Trie:\n",
        "    def __init__(self):\n",
        "        ## Initialize this Trie (add a root node)\n",
        "        self.root = TrieNode()\n",
        "\n",
        "    def insert(self, word):\n",
        "        ## Add a word to the Trie\n",
        "        node = self.root\n",
        "        \n",
        "        for c in word:\n",
        "            if c not in node.children:\n",
        "                node.insert(c)\n",
        "            node = node.children[c]\n",
        "            \n",
        "        node.is_word = True\n",
        "\n",
        "    def find(self, prefix):\n",
        "        '''Find the Trie node that represents this prefix\n",
        "        \n",
        "            Parameters: prefix (str): Character or characters that \n",
        "                specify the first part of a word\n",
        "                \n",
        "            Returns: TrieNode or None if not found\n",
        "        '''\n",
        "        node = self.root\n",
        "\n",
        "        for c in prefix:\n",
        "            if c not in node.children:\n",
        "                return\n",
        "            node = node.children[c]\n",
        "\n",
        "        return node"
      ],
      "execution_count": 0,
      "outputs": []
    },
    {
      "cell_type": "markdown",
      "metadata": {
        "id": "_tL1GbX3E0L3",
        "colab_type": "text"
      },
      "source": [
        "## Finding Suffixes\n",
        "\n",
        "Now that we have a functioning Trie, we need to add the ability to list suffixes to implement our autocomplete feature.  To do that, we need to implement a new function on the `TrieNode` object that will return all complete word suffixes that exist below it in the trie.  For example, if our Trie contains the words `[\"fun\", \"function\", \"factory\"]` and we ask for suffixes from the `f` node, we would expect to receive `[\"un\", \"unction\", \"actory\"]` back from `node.suffixes()`.\n",
        "\n",
        "adding the suffixes function below by recurse down the trie, collecting suffixes as you go."
      ]
    },
    {
      "cell_type": "code",
      "metadata": {
        "id": "HOlU9VOTE0L4",
        "colab_type": "code",
        "colab": {}
      },
      "source": [
        "class TrieNode:\n",
        "    def __init__(self):\n",
        "        self.is_word = False\n",
        "        self.children = {}\n",
        "    \n",
        "    def insert(self, char):\n",
        "        self.children[char] = TrieNode()\n",
        "        \n",
        "    def suffixes(self, suffix = ''):\n",
        "        ## Collect all suffixes below this node\n",
        "        suffix_list = []\n",
        "        \n",
        "        # If node is a word, and not the original blank suffix then append\n",
        "        if self.is_word and suffix:\n",
        "            suffix_list.append(suffix)\n",
        "        \n",
        "        # Otherwise recursively iterate through children\n",
        "        for k,v in self.children.items():\n",
        "            suffix_list.extend(self.children[k].suffixes(suffix + k))\n",
        "        return suffix_list"
      ],
      "execution_count": 0,
      "outputs": []
    },
    {
      "cell_type": "markdown",
      "metadata": {
        "id": "SBI-kn6fE0L8",
        "colab_type": "text"
      },
      "source": [
        "## Testing it all out\n"
      ]
    },
    {
      "cell_type": "code",
      "metadata": {
        "id": "crqkdv1OE0L8",
        "colab_type": "code",
        "colab": {}
      },
      "source": [
        "MyTrie = Trie()\n",
        "wordList = [\n",
        "    \"ant\", \"anthology\", \"antagonist\", \"antonym\", \n",
        "    \"fun\", \"function\", \"factory\", \n",
        "    \"trie\", \"trigger\", \"trigonometry\", \"tripod\"\n",
        "]\n",
        "for word in wordList:\n",
        "    MyTrie.insert(word)"
      ],
      "execution_count": 0,
      "outputs": []
    },
    {
      "cell_type": "code",
      "metadata": {
        "id": "UW4_YcxmE0L_",
        "colab_type": "code",
        "colab": {
          "base_uri": "https://localhost:8080/",
          "height": 66,
          "referenced_widgets": [
            "49c32617fb264431b4d53e4fcd4bbd32",
            "54cdf8bc09a04cbebb2c9a784c69aec6",
            "60a0b298600c44d5beab8b1658e4309e",
            "2c36c5edd6e14403b5003a62b7e8ca88",
            "f5378f08a3df4069b934e481848766d9",
            "4ad378da46eb4dc0ad21d824c27fed77",
            "a30925388c044aa689f958555225fa79"
          ]
        },
        "outputId": "c5624da7-8db7-4fdb-ad25-1f63bfa89fb8"
      },
      "source": [
        "from ipywidgets import widgets\n",
        "from IPython.display import display\n",
        "from ipywidgets import interact\n",
        "def f(prefix):\n",
        "    if prefix != '':\n",
        "        prefixNode = MyTrie.find(prefix)\n",
        "        if prefixNode:\n",
        "            print('\\n'.join(prefixNode.suffixes()))\n",
        "        else:\n",
        "            print(prefix + \" not found\")\n",
        "    else:\n",
        "        print('')\n",
        "interact(f,prefix='');"
      ],
      "execution_count": 12,
      "outputs": [
        {
          "output_type": "display_data",
          "data": {
            "application/vnd.jupyter.widget-view+json": {
              "model_id": "49c32617fb264431b4d53e4fcd4bbd32",
              "version_minor": 0,
              "version_major": 2
            },
            "text/plain": [
              "interactive(children=(Text(value='', description='prefix'), Output()), _dom_classes=('widget-interact',))"
            ]
          },
          "metadata": {
            "tags": []
          }
        }
      ]
    },
    {
      "cell_type": "markdown",
      "metadata": {
        "id": "xg0n2tpqHD3l",
        "colab_type": "text"
      },
      "source": [
        "# Problem 6: Unsorted Integer Array"
      ]
    },
    {
      "cell_type": "code",
      "metadata": {
        "id": "mGNJCVReHBRa",
        "colab_type": "code",
        "colab": {
          "base_uri": "https://localhost:8080/",
          "height": 398
        },
        "outputId": "1cd1e69b-ab92-431a-d211-396273458293"
      },
      "source": [
        "'''Problem 6: Unsorted Integer Array\n",
        "'''\n",
        "\n",
        "def get_min_max(ints):\n",
        "\n",
        "    \"\"\"\n",
        "    Return a tuple(min, max) out of list of unsorted integers.\n",
        "\n",
        "    Args:\n",
        "       ints(list): list of integers containing one or more integers\n",
        "    \"\"\"\n",
        "\n",
        "    assert ints, 'Must pass a non-empty array of integers'\n",
        "    assert all(isinstance(i, int) for i in ints), 'Must pass an array of integers'\n",
        "    \n",
        "    # Set the initial min and max to the first element\n",
        "\n",
        "    min = ints[0]\n",
        "    max = ints[0]\n",
        "\n",
        "    # Iterate over rest of list to see if larger or smaller elements exist\n",
        "\n",
        "    for i in ints[1:]:\n",
        "        if min > i:\n",
        "            min = i\n",
        "        if max < i:\n",
        "            max = i\n",
        "\n",
        "    return min, max\n",
        "\n",
        "\n",
        "if __name__ == '__main__':\n",
        "    test_list_1 = [1, 4, 6, 3, 0, 5, 2]\n",
        "    test_list_2 = [1, 4, 6, 3, 0, -2, 42]\n",
        "    test_list_3 = [0, 0, 0, 0, 0, 0, 0]\n",
        "\n",
        "    # Should print 0, 6\n",
        "    print(get_min_max(test_list_1))\n",
        "\n",
        "    # Should print -2, 42\n",
        "    print(get_min_max(test_list_2))\n",
        "\n",
        "    # Should print 0, 0\n",
        "    print(get_min_max(test_list_3))\n",
        "\n",
        "    # Single digit, should print 1,1\n",
        "    print(get_min_max([1]))\n",
        "\n",
        "    # Should raise an error\n",
        "    print(get_min_max([]))\n"
      ],
      "execution_count": 14,
      "outputs": [
        {
          "output_type": "stream",
          "text": [
            "(0, 6)\n",
            "(-2, 42)\n",
            "(0, 0)\n",
            "(1, 1)\n"
          ],
          "name": "stdout"
        },
        {
          "output_type": "error",
          "ename": "AssertionError",
          "evalue": "ignored",
          "traceback": [
            "\u001b[0;31m---------------------------------------------------------------------------\u001b[0m",
            "\u001b[0;31mAssertionError\u001b[0m                            Traceback (most recent call last)",
            "\u001b[0;32m<ipython-input-14-967acd092bed>\u001b[0m in \u001b[0;36m<module>\u001b[0;34m()\u001b[0m\n\u001b[1;32m     48\u001b[0m \u001b[0;34m\u001b[0m\u001b[0m\n\u001b[1;32m     49\u001b[0m     \u001b[0;31m# Should raise an error\u001b[0m\u001b[0;34m\u001b[0m\u001b[0;34m\u001b[0m\u001b[0;34m\u001b[0m\u001b[0m\n\u001b[0;32m---> 50\u001b[0;31m     \u001b[0mprint\u001b[0m\u001b[0;34m(\u001b[0m\u001b[0mget_min_max\u001b[0m\u001b[0;34m(\u001b[0m\u001b[0;34m[\u001b[0m\u001b[0;34m]\u001b[0m\u001b[0;34m)\u001b[0m\u001b[0;34m)\u001b[0m\u001b[0;34m\u001b[0m\u001b[0;34m\u001b[0m\u001b[0m\n\u001b[0m",
            "\u001b[0;32m<ipython-input-14-967acd092bed>\u001b[0m in \u001b[0;36mget_min_max\u001b[0;34m(ints)\u001b[0m\n\u001b[1;32m     11\u001b[0m     \"\"\"\n\u001b[1;32m     12\u001b[0m \u001b[0;34m\u001b[0m\u001b[0m\n\u001b[0;32m---> 13\u001b[0;31m     \u001b[0;32massert\u001b[0m \u001b[0mints\u001b[0m\u001b[0;34m,\u001b[0m \u001b[0;34m'Must pass a non-empty array of integers'\u001b[0m\u001b[0;34m\u001b[0m\u001b[0;34m\u001b[0m\u001b[0m\n\u001b[0m\u001b[1;32m     14\u001b[0m     \u001b[0;32massert\u001b[0m \u001b[0mall\u001b[0m\u001b[0;34m(\u001b[0m\u001b[0misinstance\u001b[0m\u001b[0;34m(\u001b[0m\u001b[0mi\u001b[0m\u001b[0;34m,\u001b[0m \u001b[0mint\u001b[0m\u001b[0;34m)\u001b[0m \u001b[0;32mfor\u001b[0m \u001b[0mi\u001b[0m \u001b[0;32min\u001b[0m \u001b[0mints\u001b[0m\u001b[0;34m)\u001b[0m\u001b[0;34m,\u001b[0m \u001b[0;34m'Must pass an array of integers'\u001b[0m\u001b[0;34m\u001b[0m\u001b[0;34m\u001b[0m\u001b[0m\n\u001b[1;32m     15\u001b[0m \u001b[0;34m\u001b[0m\u001b[0m\n",
            "\u001b[0;31mAssertionError\u001b[0m: Must pass a non-empty array of integers"
          ]
        }
      ]
    },
    {
      "cell_type": "markdown",
      "metadata": {
        "id": "sVOXGxgpHouf",
        "colab_type": "text"
      },
      "source": [
        "# Problem 7: HTTPRouter using a Trie"
      ]
    },
    {
      "cell_type": "code",
      "metadata": {
        "id": "DTf6z-1ZHmYa",
        "colab_type": "code",
        "colab": {
          "base_uri": "https://localhost:8080/",
          "height": 105
        },
        "outputId": "021bc6af-51ff-49c6-9047-fa8b004d521d"
      },
      "source": [
        "'''\n",
        "Problem 7: HTTPRouter using a Trie\n",
        "'''\n",
        "\n",
        "# Basic Trie node plus handler \n",
        "\n",
        "class RouteTrieNode:\n",
        "    def __init__(self, handler: str = None):\n",
        "        self.children = {}\n",
        "        self.handler = handler\n",
        "\n",
        "    def insert(self, path: str, handler: str=None):\n",
        "        self.children[path] = RouteTrieNode(handler)\n",
        "\n",
        "# Trie structure to store routes and associated handlers\n",
        "\n",
        "class RouteTrie:\n",
        "    def __init__(self,\n",
        "                 root_handler: str,\n",
        "                 not_found_handler: str):\n",
        "        self.root = RouteTrieNode(root_handler)\n",
        "        self.not_found_handler = not_found_handler\n",
        "\n",
        "    def insert(self, \n",
        "               path: str, \n",
        "               handler: str = None):\n",
        "        ''' Inserts path one chunk at a time into the Trie\n",
        "        '''\n",
        "        # Start at the root node\n",
        "\n",
        "        node = self.root\n",
        "\n",
        "        # Iterate along supplied path\n",
        "\n",
        "        for p in path.split('/'):\n",
        "            # Filter out empty blocks\n",
        "            if p:\n",
        "                node.insert(p, self.not_found_handler)\n",
        "                node = node.children[p]\n",
        "        \n",
        "        node.handler = handler\n",
        "\n",
        "\n",
        "    def find(self, path: str):\n",
        "        ''' Traverse Route Trie, returning not_found_handler if path \n",
        "                does not exist\n",
        "        '''\n",
        "        node = self.root\n",
        "\n",
        "        # Traverse Trie\n",
        "\n",
        "        for p in path.split('/'):\n",
        "            if p:\n",
        "                if p in node.children.keys():\n",
        "                    node = node.children[p]\n",
        "                else:\n",
        "                    return self.not_found_handler\n",
        "        \n",
        "        # Return handler if traversed to the end\n",
        "\n",
        "        return node.handler\n",
        "\n",
        "\n",
        "# Wrapper class to handle input\n",
        "\n",
        "class Router:\n",
        "    def __init__(self,\n",
        "                 root_handler: str,\n",
        "                 not_found_handler: str):\n",
        "        self.trie = RouteTrie(root_handler, \n",
        "                              not_found_handler)\n",
        "\n",
        "    def add_handler(self, path: str, handler: str):\n",
        "        self.trie.insert(path, handler)\n",
        "\n",
        "    def lookup(self, path: str):\n",
        "        return self.trie.find(path)\n",
        "\n",
        "\n",
        "if __name__ == '__main__':\n",
        "\n",
        "    # Create the router and add a route\n",
        "\n",
        "    router = Router(root_handler=\"root handler\", \n",
        "                    not_found_handler=\"not found handler\")\n",
        "    router.add_handler(path=\"/home/about\", \n",
        "                       handler=\"about handler\")\n",
        "\n",
        "#TESTCASES\n",
        "\n",
        "    print(router.lookup(\"/\")) # Should print 'root handler'\n",
        "    print(router.lookup(\"/home\")) # Should print 'not found handler'\n",
        "    print(router.lookup(\"/home/about\")) # Should print 'about handler'\n",
        "    print(router.lookup(\"/home/about/\")) # Should print 'about handler'\n",
        "    print(router.lookup(\"/home/about/me\")) # Should print 'not found handler'   "
      ],
      "execution_count": 16,
      "outputs": [
        {
          "output_type": "stream",
          "text": [
            "root handler\n",
            "not found handler\n",
            "about handler\n",
            "about handler\n",
            "not found handler\n"
          ],
          "name": "stdout"
        }
      ]
    },
    {
      "cell_type": "code",
      "metadata": {
        "id": "V-3GcMLpH1qR",
        "colab_type": "code",
        "colab": {}
      },
      "source": [
        ""
      ],
      "execution_count": 0,
      "outputs": []
    }
  ]
}